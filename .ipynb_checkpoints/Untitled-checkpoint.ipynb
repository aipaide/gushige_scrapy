{
 "cells": [
  {
   "cell_type": "code",
   "execution_count": null,
   "metadata": {},
   "outputs": [],
   "source": [
    "# 针对诗歌的问题模板\n",
    "author=\"李白\"\n",
    "title=\"赠王伦\"\n",
    "theme=\"离别\"\n",
    "words=12\n",
    "time=\"唐朝\"\n",
    "# 一般\n",
    "question_shige_general = [\n",
    "    f'请做一首诗',\n",
    "    f'请做一首古诗'\n",
    "]\n",
    "\n",
    "# 作者\n",
    "question_shige_author = [\n",
    "    f'请写一首{author}的诗',\n",
    "]\n",
    "\n",
    "# title\n",
    "question_shige_title = [\n",
    "    f'请以“{title}”为题，写一首诗。',\n",
    "]\n",
    "\n",
    "# time\n",
    "question_shige_title = [\n",
    "    f'请写一首{time}时代的一首诗。',\n",
    "]\n",
    "\n",
    "# 主题\n",
    "question_shige_themes = [\n",
    "    f'请写一首关于“{theme}”的诗'\n",
    "]\n",
    "\n",
    "# 字数\n",
    "question_shige_words = [\n",
    "     f'请写一首不少于{words}字的诗'\n",
    "]\n",
    "\n",
    "\n",
    "question_templates = question_shige_general + question_shige_author + question_shige_title + question_shige_themes+question_shige_words"
   ]
  },
  {
   "cell_type": "code",
   "execution_count": null,
   "metadata": {},
   "outputs": [],
   "source": [
    "question_templates"
   ]
  },
  {
   "cell_type": "code",
   "execution_count": null,
   "metadata": {},
   "outputs": [],
   "source": [
    "import jsonlines\n",
    "f = open ('gushici.jsonl', \"r\")\n",
    "with jsonlines.open('gushici.jsonl') as reader:\n",
    "    for obj in reader:\n",
    "        print(obj)"
   ]
  },
  {
   "cell_type": "code",
   "execution_count": 4,
   "metadata": {},
   "outputs": [
    {
     "ename": "ModuleNotFoundError",
     "evalue": "No module named 'jsonlines'",
     "output_type": "error",
     "traceback": [
      "\u001b[0;31m---------------------------------------------------------------------------\u001b[0m",
      "\u001b[0;31mModuleNotFoundError\u001b[0m                       Traceback (most recent call last)",
      "\u001b[0;32m<ipython-input-4-cac772e3f8c4>\u001b[0m in \u001b[0;36m<module>\u001b[0;34m()\u001b[0m\n\u001b[0;32m----> 1\u001b[0;31m \u001b[0;32mimport\u001b[0m \u001b[0mjsonlines\u001b[0m\u001b[0;34m\u001b[0m\u001b[0;34m\u001b[0m\u001b[0m\n\u001b[0m",
      "\u001b[0;31mModuleNotFoundError\u001b[0m: No module named 'jsonlines'"
     ]
    }
   ],
   "source": [
    "import jsonlines"
   ]
  },
  {
   "cell_type": "code",
   "execution_count": null,
   "metadata": {},
   "outputs": [],
   "source": [
    "def QA_data(story,question_template):\n",
    "    category=story['category']\n",
    "    title=story['title']\n",
    "    content=story['content']\n",
    "    words=story['words']\n",
    "    story_questions = question_template\n",
    "    story_qa_data = []\n",
    "    for q in story_questions:\n",
    "        res = {\n",
    "              \"instruction\": q,\n",
    "              \"input\": \"\",\n",
    "              \"output\": content\n",
    "              },\n",
    "        story_qa_data.append(res)\n",
    "    return story_qa_data"
   ]
  }
 ],
 "metadata": {
  "kernelspec": {
   "display_name": "Python 3",
   "language": "python",
   "name": "python3"
  },
  "language_info": {
   "codemirror_mode": {
    "name": "ipython",
    "version": 3
   },
   "file_extension": ".py",
   "mimetype": "text/x-python",
   "name": "python",
   "nbconvert_exporter": "python",
   "pygments_lexer": "ipython3",
   "version": "3.6.9"
  }
 },
 "nbformat": 4,
 "nbformat_minor": 2
}
